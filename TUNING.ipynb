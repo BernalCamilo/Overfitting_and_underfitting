{
  "cells": [
    {
      "cell_type": "code",
      "execution_count": 139,
      "metadata": {
        "colab": {
          "base_uri": "https://localhost:8080/",
          "height": 36
        },
        "id": "Pp-nw9SoXV1X",
        "outputId": "f0eed538-3b5f-4f16-d967-9642c2240fe4"
      },
      "outputs": [
        {
          "data": {
            "text/plain": [
              "'3.5.0'"
            ]
          },
          "execution_count": 139,
          "metadata": {},
          "output_type": "execute_result"
        }
      ],
      "source": [
        "import keras\n",
        "keras.__version__"
      ]
    },
    {
      "cell_type": "markdown",
      "metadata": {
        "id": "UGIDx8B1XV1Z"
      },
      "source": [
        "# Overfitting and underfitting\n",
        "\n",
        "Based on the code of the book [Deep Learning with Python](https://www.manning.com/books/deep-learning-with-python?a_aid=keras&a_bid=76564dff)."
      ]
    },
    {
      "cell_type": "markdown",
      "metadata": {
        "id": "_uWQwaAnXV1b"
      },
      "source": []
    },
    {
      "cell_type": "code",
      "execution_count": 140,
      "metadata": {},
      "outputs": [
        {
          "name": "stdout",
          "output_type": "stream",
          "text": [
            "Datasets en 'human_train.h5':\n",
            "['X', 'classes', 'y']\n",
            "Datasets en 'human_test.h5':\n",
            "['X', 'classes', 'y']\n"
          ]
        }
      ],
      "source": [
        "import h5py\n",
        "\n",
        "# Verificar los datasets en el archivo de entrenamiento\n",
        "with h5py.File('human_train.h5', 'r') as train_file:\n",
        "    print(\"Datasets en 'human_train.h5':\")\n",
        "    print(list(train_file.keys()))\n",
        "\n",
        "# Verificar los datasets en el archivo de prueba\n",
        "with h5py.File('human_test.h5', 'r') as test_file:\n",
        "    print(\"Datasets en 'human_test.h5':\")\n",
        "    print(list(test_file.keys()))\n"
      ]
    },
    {
      "cell_type": "code",
      "execution_count": 141,
      "metadata": {
        "collapsed": true,
        "id": "rKT1Br7nXV1c"
      },
      "outputs": [
        {
          "name": "stdout",
          "output_type": "stream",
          "text": [
            "Shape de imágenes de entrenamiento: (821, 64, 64, 4)\n",
            "Shape de etiquetas de entrenamiento: (821,)\n",
            "Shape de imágenes de prueba: (206, 64, 64, 4)\n",
            "Shape de etiquetas de prueba: (206,)\n",
            "Número de clases: 2\n"
          ]
        }
      ],
      "source": [
        "import h5py\n",
        "import numpy as np\n",
        "\n",
        "# Cargar el archivo de entrenamiento\n",
        "with h5py.File('human_train.h5', 'r') as train_file:\n",
        "    train_images = np.array(train_file['X'])  # Cargar imágenes\n",
        "    train_labels = np.array(train_file['y'])  # Cargar etiquetas\n",
        "\n",
        "# Cargar el archivo de prueba\n",
        "with h5py.File('human_test.h5', 'r') as test_file:\n",
        "    test_images = np.array(test_file['X'])  # Cargar imágenes\n",
        "    test_labels = np.array(test_file['y'])  # Cargar etiquetas\n",
        "\n",
        "# Normalización de imágenes (opcional, dependiendo de tu conjunto de datos)\n",
        "train_images = train_images.astype('float32') / 255.0\n",
        "test_images = test_images.astype('float32') / 255.0\n",
        "\n",
        "# Número de clases en el conjunto de datos\n",
        "numero_clases = len(np.unique(train_labels))\n",
        "\n",
        "print(f\"Shape de imágenes de entrenamiento: {train_images.shape}\")\n",
        "print(f\"Shape de etiquetas de entrenamiento: {train_labels.shape}\")\n",
        "print(f\"Shape de imágenes de prueba: {test_images.shape}\")\n",
        "print(f\"Shape de etiquetas de prueba: {test_labels.shape}\")\n",
        "print(f\"Número de clases: {numero_clases}\")\n"
      ]
    },
    {
      "cell_type": "code",
      "execution_count": 142,
      "metadata": {
        "id": "BRs3Lp6Al_m1"
      },
      "outputs": [],
      "source": [
        "from keras.utils import to_categorical\n",
        "\n",
        "# Las imágenes ya están cargadas y normalizadas como 'train_images' y 'test_images'\n",
        "\n",
        "# Si tus etiquetas están en formato numérico y necesitas convertirlas a categórico\n",
        "y_train = to_categorical(train_labels)\n",
        "y_test = to_categorical(test_labels)\n"
      ]
    },
    {
      "cell_type": "markdown",
      "metadata": {
        "id": "Zu2HRrdqXV1c"
      },
      "source": [
        "# Fighting overfitting\n",
        "\n",
        "## Reducing the network's size\n",
        "\n",
        "\n",
        "The simplest way to prevent overfitting is to reduce the size of the model, i.e. the number of learnable parameters in the model (which is\n",
        "determined by the number of layers and the number of units per layer). In deep learning, the number of learnable parameters in a model is\n",
        "often referred to as the model's \"capacity\". Intuitively, a model with more parameters will have more \"memorization capacity\" and therefore\n",
        "will be able to easily learn a perfect dictionary-like mapping between training samples and their targets, a mapping without any\n",
        "generalization power. For instance, a model with 500,000 binary parameters could easily be made to learn the class of every digits in the\n",
        "MNIST training set: we would only need 10 binary parameters for each of the 50,000 digits. Such a model would be useless for classifying\n",
        "new digit samples. Always keep this in mind: deep learning models tend to be good at fitting to the training data, but the real challenge\n",
        "is generalization, not fitting.\n",
        "\n",
        "On the other hand, if the network has limited memorization resources, it will not be able to learn this mapping as easily, and thus, in\n",
        "order to minimize its loss, it will have to resort to learning compressed representations that have predictive power regarding the targets\n",
        "-- precisely the type of representations that we are interested in. At the same time, keep in mind that you should be using models that have\n",
        "enough parameters that they won't be underfitting: your model shouldn't be starved for memorization resources. There is a compromise to be\n",
        "found between \"too much capacity\" and \"not enough capacity\".\n",
        "\n",
        "Unfortunately, there is no magical formula to determine what the right number of layers is, or what the right size for each layer is. You\n",
        "will have to evaluate an array of different architectures (on your validation set, not on your test set, of course) in order to find the\n",
        "right model size for your data. The general workflow to find an appropriate model size is to start with relatively few layers and\n",
        "parameters, and start increasing the size of the layers or adding new layers until you see diminishing returns with regard to the\n",
        "validation loss.\n",
        "\n",
        "Let's try this on our movie review classification network. Our original network was as such:"
      ]
    },
    {
      "cell_type": "code",
      "execution_count": 143,
      "metadata": {
        "collapsed": true,
        "id": "WDB5Wg1sXV1d"
      },
      "outputs": [],
      "source": [
        "from keras import models\n",
        "from keras.layers import Conv2D, MaxPooling2D, Flatten, Dense\n",
        "\n",
        "# Crear un modelo secuencial\n",
        "model = models.Sequential()\n",
        "\n",
        "# Primera capa convolucional\n",
        "model.add(Conv2D(32, (3, 3), activation='relu', input_shape=(train_images.shape[1], train_images.shape[2], train_images.shape[3])))\n",
        "model.add(MaxPooling2D((2, 2)))\n",
        "\n",
        "# Segunda capa convolucional\n",
        "model.add(Conv2D(64, (3, 3), activation='relu'))\n",
        "model.add(MaxPooling2D((2, 2)))\n",
        "\n",
        "# Tercera capa convolucional\n",
        "model.add(Conv2D(128, (3, 3), activation='relu'))\n",
        "model.add(MaxPooling2D((2, 2)))\n",
        "\n",
        "# Aplanar (flatten) para conectar con las capas densas\n",
        "model.add(Flatten())\n",
        "\n",
        "# Capa densa (fully connected)\n",
        "model.add(Dense(64, activation='relu'))\n",
        "\n",
        "# Capa de salida para clasificación binaria\n",
        "model.add(Dense(1, activation='sigmoid'))\n",
        "\n",
        "# Compilar el modelo\n",
        "model.compile(optimizer='rmsprop',\n",
        "              loss='binary_crossentropy',\n",
        "              metrics=['accuracy'])\n",
        "\n",
        "\n"
      ]
    },
    {
      "cell_type": "markdown",
      "metadata": {
        "id": "P4LCiCgRXV1d"
      },
      "source": [
        "Now let's try to replace it with this smaller network:"
      ]
    },
    {
      "cell_type": "code",
      "execution_count": 144,
      "metadata": {
        "collapsed": true,
        "id": "oHo_-kBeXV1d"
      },
      "outputs": [],
      "source": [
        "from keras import models\n",
        "from keras.layers import Conv2D, MaxPooling2D, Flatten, Dense\n",
        "\n",
        "# Crear un modelo secuencial reducido\n",
        "smaller_model = models.Sequential()\n",
        "\n",
        "# Primera capa convolucional con menos filtros\n",
        "smaller_model.add(Conv2D(16, (3, 3), activation='relu', input_shape=(train_images.shape[1], train_images.shape[2], train_images.shape[3])))\n",
        "smaller_model.add(MaxPooling2D((2, 2)))\n",
        "\n",
        "# Segunda capa convolucional con menos filtros\n",
        "smaller_model.add(Conv2D(32, (3, 3), activation='relu'))\n",
        "smaller_model.add(MaxPooling2D((2, 2)))\n",
        "\n",
        "# Aplanar (flatten) para conectar con las capas densas\n",
        "smaller_model.add(Flatten())\n",
        "\n",
        "# Capa densa (fully connected) con menos neuronas\n",
        "smaller_model.add(Dense(16, activation='relu'))\n",
        "\n",
        "# Capa de salida para clasificación binaria\n",
        "smaller_model.add(Dense(1, activation='sigmoid'))\n",
        "\n",
        "# Compilar el modelo\n",
        "smaller_model.compile(optimizer='rmsprop',\n",
        "                      loss='binary_crossentropy',\n",
        "                      metrics=['accuracy'])\n"
      ]
    },
    {
      "cell_type": "markdown",
      "metadata": {
        "id": "Y4-5Ah2YXV1d"
      },
      "source": [
        "\n",
        "Here's a comparison of the validation losses of the original network and the smaller network. The dots are the validation loss values of\n",
        "the smaller network, and the crosses are the initial network (remember: a lower validation loss signals a better model)."
      ]
    },
    {
      "cell_type": "code",
      "execution_count": 145,
      "metadata": {},
      "outputs": [
        {
          "name": "stdout",
          "output_type": "stream",
          "text": [
            "(821, 64, 64, 4)\n",
            "(206, 64, 64, 4)\n",
            "(821,)\n",
            "(206,)\n"
          ]
        }
      ],
      "source": [
        "print(train_images.shape)\n",
        "print(test_images.shape)\n",
        "print(y_train_binary.shape)\n",
        "print(y_test_binary.shape)\n"
      ]
    },
    {
      "cell_type": "code",
      "execution_count": 146,
      "metadata": {},
      "outputs": [
        {
          "name": "stdout",
          "output_type": "stream",
          "text": [
            "2.16.2\n"
          ]
        }
      ],
      "source": [
        "import tensorflow as tf\n",
        "print(tf.__version__)\n"
      ]
    },
    {
      "cell_type": "code",
      "execution_count": 147,
      "metadata": {
        "colab": {
          "base_uri": "https://localhost:8080/"
        },
        "id": "t4_W819wXV1d",
        "outputId": "24f289a4-d1f4-4403-f66d-82a1ed103dac"
      },
      "outputs": [
        {
          "name": "stdout",
          "output_type": "stream",
          "text": [
            "Epoch 1/20\n",
            "\u001b[1m2/2\u001b[0m \u001b[32m━━━━━━━━━━━━━━━━━━━━\u001b[0m\u001b[37m\u001b[0m \u001b[1m2s\u001b[0m 580ms/step - accuracy: 0.5583 - loss: 0.6931 - val_accuracy: 0.5291 - val_loss: 0.6926\n",
            "Epoch 2/20\n",
            "\u001b[1m2/2\u001b[0m \u001b[32m━━━━━━━━━━━━━━━━━━━━\u001b[0m\u001b[37m\u001b[0m \u001b[1m1s\u001b[0m 399ms/step - accuracy: 0.5087 - loss: 0.6930 - val_accuracy: 0.5291 - val_loss: 0.6922\n",
            "Epoch 3/20\n",
            "\u001b[1m2/2\u001b[0m \u001b[32m━━━━━━━━━━━━━━━━━━━━\u001b[0m\u001b[37m\u001b[0m \u001b[1m1s\u001b[0m 416ms/step - accuracy: 0.5119 - loss: 0.6928 - val_accuracy: 0.5291 - val_loss: 0.6929\n",
            "Epoch 4/20\n",
            "\u001b[1m2/2\u001b[0m \u001b[32m━━━━━━━━━━━━━━━━━━━━\u001b[0m\u001b[37m\u001b[0m \u001b[1m1s\u001b[0m 400ms/step - accuracy: 0.5080 - loss: 0.6930 - val_accuracy: 0.5291 - val_loss: 0.6923\n",
            "Epoch 5/20\n",
            "\u001b[1m2/2\u001b[0m \u001b[32m━━━━━━━━━━━━━━━━━━━━\u001b[0m\u001b[37m\u001b[0m \u001b[1m1s\u001b[0m 427ms/step - accuracy: 0.5159 - loss: 0.6930 - val_accuracy: 0.5291 - val_loss: 0.6924\n",
            "Epoch 6/20\n",
            "\u001b[1m2/2\u001b[0m \u001b[32m━━━━━━━━━━━━━━━━━━━━\u001b[0m\u001b[37m\u001b[0m \u001b[1m1s\u001b[0m 406ms/step - accuracy: 0.5146 - loss: 0.6929 - val_accuracy: 0.5291 - val_loss: 0.6925\n",
            "Epoch 7/20\n",
            "\u001b[1m2/2\u001b[0m \u001b[32m━━━━━━━━━━━━━━━━━━━━\u001b[0m\u001b[37m\u001b[0m \u001b[1m1s\u001b[0m 435ms/step - accuracy: 0.5119 - loss: 0.6929 - val_accuracy: 0.5291 - val_loss: 0.6926\n",
            "Epoch 8/20\n",
            "\u001b[1m2/2\u001b[0m \u001b[32m━━━━━━━━━━━━━━━━━━━━\u001b[0m\u001b[37m\u001b[0m \u001b[1m1s\u001b[0m 419ms/step - accuracy: 0.5133 - loss: 0.6929 - val_accuracy: 0.5291 - val_loss: 0.6926\n",
            "Epoch 9/20\n",
            "\u001b[1m2/2\u001b[0m \u001b[32m━━━━━━━━━━━━━━━━━━━━\u001b[0m\u001b[37m\u001b[0m \u001b[1m1s\u001b[0m 452ms/step - accuracy: 0.5100 - loss: 0.6930 - val_accuracy: 0.5291 - val_loss: 0.6925\n",
            "Epoch 10/20\n",
            "\u001b[1m2/2\u001b[0m \u001b[32m━━━━━━━━━━━━━━━━━━━━\u001b[0m\u001b[37m\u001b[0m \u001b[1m1s\u001b[0m 408ms/step - accuracy: 0.5126 - loss: 0.6929 - val_accuracy: 0.5291 - val_loss: 0.6925\n",
            "Epoch 11/20\n",
            "\u001b[1m2/2\u001b[0m \u001b[32m━━━━━━━━━━━━━━━━━━━━\u001b[0m\u001b[37m\u001b[0m \u001b[1m1s\u001b[0m 424ms/step - accuracy: 0.5159 - loss: 0.6929 - val_accuracy: 0.5291 - val_loss: 0.6926\n",
            "Epoch 12/20\n",
            "\u001b[1m2/2\u001b[0m \u001b[32m━━━━━━━━━━━━━━━━━━━━\u001b[0m\u001b[37m\u001b[0m \u001b[1m1s\u001b[0m 397ms/step - accuracy: 0.5061 - loss: 0.6931 - val_accuracy: 0.5291 - val_loss: 0.6924\n",
            "Epoch 13/20\n",
            "\u001b[1m2/2\u001b[0m \u001b[32m━━━━━━━━━━━━━━━━━━━━\u001b[0m\u001b[37m\u001b[0m \u001b[1m1s\u001b[0m 427ms/step - accuracy: 0.5119 - loss: 0.6929 - val_accuracy: 0.5291 - val_loss: 0.6925\n",
            "Epoch 14/20\n",
            "\u001b[1m2/2\u001b[0m \u001b[32m━━━━━━━━━━━━━━━━━━━━\u001b[0m\u001b[37m\u001b[0m \u001b[1m1s\u001b[0m 386ms/step - accuracy: 0.5048 - loss: 0.6931 - val_accuracy: 0.5291 - val_loss: 0.6922\n",
            "Epoch 15/20\n",
            "\u001b[1m2/2\u001b[0m \u001b[32m━━━━━━━━━━━━━━━━━━━━\u001b[0m\u001b[37m\u001b[0m \u001b[1m1s\u001b[0m 395ms/step - accuracy: 0.5041 - loss: 0.6932 - val_accuracy: 0.5291 - val_loss: 0.6921\n",
            "Epoch 16/20\n",
            "\u001b[1m2/2\u001b[0m \u001b[32m━━━━━━━━━━━━━━━━━━━━\u001b[0m\u001b[37m\u001b[0m \u001b[1m1s\u001b[0m 390ms/step - accuracy: 0.5035 - loss: 0.6933 - val_accuracy: 0.5291 - val_loss: 0.6920\n",
            "Epoch 17/20\n",
            "\u001b[1m2/2\u001b[0m \u001b[32m━━━━━━━━━━━━━━━━━━━━\u001b[0m\u001b[37m\u001b[0m \u001b[1m1s\u001b[0m 383ms/step - accuracy: 0.4989 - loss: 0.6937 - val_accuracy: 0.5291 - val_loss: 0.6920\n",
            "Epoch 18/20\n",
            "\u001b[1m2/2\u001b[0m \u001b[32m━━━━━━━━━━━━━━━━━━━━\u001b[0m\u001b[37m\u001b[0m \u001b[1m1s\u001b[0m 391ms/step - accuracy: 0.5119 - loss: 0.6928 - val_accuracy: 0.5291 - val_loss: 0.6921\n",
            "Epoch 19/20\n",
            "\u001b[1m2/2\u001b[0m \u001b[32m━━━━━━━━━━━━━━━━━━━━\u001b[0m\u001b[37m\u001b[0m \u001b[1m1s\u001b[0m 420ms/step - accuracy: 0.5067 - loss: 0.6931 - val_accuracy: 0.5291 - val_loss: 0.6921\n",
            "Epoch 20/20\n",
            "\u001b[1m2/2\u001b[0m \u001b[32m━━━━━━━━━━━━━━━━━━━━\u001b[0m\u001b[37m\u001b[0m \u001b[1m1s\u001b[0m 388ms/step - accuracy: 0.5093 - loss: 0.6929 - val_accuracy: 0.5291 - val_loss: 0.6921\n",
            "Epoch 1/20\n",
            "\u001b[1m2/2\u001b[0m \u001b[32m━━━━━━━━━━━━━━━━━━━━\u001b[0m\u001b[37m\u001b[0m \u001b[1m1s\u001b[0m 270ms/step - accuracy: 0.5058 - loss: 0.6932 - val_accuracy: 0.5291 - val_loss: 0.6927\n",
            "Epoch 2/20\n",
            "\u001b[1m2/2\u001b[0m \u001b[32m━━━━━━━━━━━━━━━━━━━━\u001b[0m\u001b[37m\u001b[0m \u001b[1m0s\u001b[0m 146ms/step - accuracy: 0.5080 - loss: 0.6930 - val_accuracy: 0.5291 - val_loss: 0.6925\n",
            "Epoch 3/20\n",
            "\u001b[1m2/2\u001b[0m \u001b[32m━━━━━━━━━━━━━━━━━━━━\u001b[0m\u001b[37m\u001b[0m \u001b[1m0s\u001b[0m 155ms/step - accuracy: 0.5074 - loss: 0.6930 - val_accuracy: 0.5291 - val_loss: 0.6922\n",
            "Epoch 4/20\n",
            "\u001b[1m2/2\u001b[0m \u001b[32m━━━━━━━━━━━━━━━━━━━━\u001b[0m\u001b[37m\u001b[0m \u001b[1m0s\u001b[0m 178ms/step - accuracy: 0.5087 - loss: 0.6929 - val_accuracy: 0.5291 - val_loss: 0.6922\n",
            "Epoch 5/20\n",
            "\u001b[1m2/2\u001b[0m \u001b[32m━━━━━━━━━━━━━━━━━━━━\u001b[0m\u001b[37m\u001b[0m \u001b[1m0s\u001b[0m 182ms/step - accuracy: 0.5080 - loss: 0.6929 - val_accuracy: 0.5291 - val_loss: 0.6920\n",
            "Epoch 6/20\n",
            "\u001b[1m2/2\u001b[0m \u001b[32m━━━━━━━━━━━━━━━━━━━━\u001b[0m\u001b[37m\u001b[0m \u001b[1m0s\u001b[0m 146ms/step - accuracy: 0.5041 - loss: 0.6932 - val_accuracy: 0.5291 - val_loss: 0.6919\n",
            "Epoch 7/20\n",
            "\u001b[1m2/2\u001b[0m \u001b[32m━━━━━━━━━━━━━━━━━━━━\u001b[0m\u001b[37m\u001b[0m \u001b[1m0s\u001b[0m 150ms/step - accuracy: 0.5119 - loss: 0.6927 - val_accuracy: 0.5291 - val_loss: 0.6922\n",
            "Epoch 8/20\n",
            "\u001b[1m2/2\u001b[0m \u001b[32m━━━━━━━━━━━━━━━━━━━━\u001b[0m\u001b[37m\u001b[0m \u001b[1m0s\u001b[0m 158ms/step - accuracy: 0.5093 - loss: 0.6928 - val_accuracy: 0.5291 - val_loss: 0.6921\n",
            "Epoch 9/20\n",
            "\u001b[1m2/2\u001b[0m \u001b[32m━━━━━━━━━━━━━━━━━━━━\u001b[0m\u001b[37m\u001b[0m \u001b[1m0s\u001b[0m 139ms/step - accuracy: 0.5100 - loss: 0.6928 - val_accuracy: 0.5291 - val_loss: 0.6921\n",
            "Epoch 10/20\n",
            "\u001b[1m2/2\u001b[0m \u001b[32m━━━━━━━━━━━━━━━━━━━━\u001b[0m\u001b[37m\u001b[0m \u001b[1m0s\u001b[0m 147ms/step - accuracy: 0.5074 - loss: 0.6928 - val_accuracy: 0.5291 - val_loss: 0.6920\n",
            "Epoch 11/20\n",
            "\u001b[1m2/2\u001b[0m \u001b[32m━━━━━━━━━━━━━━━━━━━━\u001b[0m\u001b[37m\u001b[0m \u001b[1m0s\u001b[0m 143ms/step - accuracy: 0.4976 - loss: 0.6937 - val_accuracy: 0.5291 - val_loss: 0.6920\n",
            "Epoch 12/20\n",
            "\u001b[1m2/2\u001b[0m \u001b[32m━━━━━━━━━━━━━━━━━━━━\u001b[0m\u001b[37m\u001b[0m \u001b[1m0s\u001b[0m 156ms/step - accuracy: 0.5119 - loss: 0.6926 - val_accuracy: 0.5291 - val_loss: 0.6921\n",
            "Epoch 13/20\n",
            "\u001b[1m2/2\u001b[0m \u001b[32m━━━━━━━━━━━━━━━━━━━━\u001b[0m\u001b[37m\u001b[0m \u001b[1m0s\u001b[0m 146ms/step - accuracy: 0.5100 - loss: 0.6927 - val_accuracy: 0.5291 - val_loss: 0.6920\n",
            "Epoch 14/20\n",
            "\u001b[1m2/2\u001b[0m \u001b[32m━━━━━━━━━━━━━━━━━━━━\u001b[0m\u001b[37m\u001b[0m \u001b[1m0s\u001b[0m 165ms/step - accuracy: 0.5054 - loss: 0.6928 - val_accuracy: 0.5291 - val_loss: 0.6918\n",
            "Epoch 15/20\n",
            "\u001b[1m2/2\u001b[0m \u001b[32m━━━━━━━━━━━━━━━━━━━━\u001b[0m\u001b[37m\u001b[0m \u001b[1m0s\u001b[0m 142ms/step - accuracy: 0.5146 - loss: 0.6925 - val_accuracy: 0.5291 - val_loss: 0.6921\n",
            "Epoch 16/20\n",
            "\u001b[1m2/2\u001b[0m \u001b[32m━━━━━━━━━━━━━━━━━━━━\u001b[0m\u001b[37m\u001b[0m \u001b[1m0s\u001b[0m 144ms/step - accuracy: 0.5087 - loss: 0.6926 - val_accuracy: 0.5291 - val_loss: 0.6920\n",
            "Epoch 17/20\n",
            "\u001b[1m2/2\u001b[0m \u001b[32m━━━━━━━━━━━━━━━━━━━━\u001b[0m\u001b[37m\u001b[0m \u001b[1m0s\u001b[0m 147ms/step - accuracy: 0.5133 - loss: 0.6925 - val_accuracy: 0.5291 - val_loss: 0.6921\n",
            "Epoch 18/20\n",
            "\u001b[1m2/2\u001b[0m \u001b[32m━━━━━━━━━━━━━━━━━━━━\u001b[0m\u001b[37m\u001b[0m \u001b[1m0s\u001b[0m 144ms/step - accuracy: 0.5074 - loss: 0.6926 - val_accuracy: 0.5291 - val_loss: 0.6919\n",
            "Epoch 19/20\n",
            "\u001b[1m2/2\u001b[0m \u001b[32m━━━━━━━━━━━━━━━━━━━━\u001b[0m\u001b[37m\u001b[0m \u001b[1m0s\u001b[0m 152ms/step - accuracy: 0.5126 - loss: 0.6924 - val_accuracy: 0.5291 - val_loss: 0.6921\n",
            "Epoch 20/20\n",
            "\u001b[1m2/2\u001b[0m \u001b[32m━━━━━━━━━━━━━━━━━━━━\u001b[0m\u001b[37m\u001b[0m \u001b[1m0s\u001b[0m 146ms/step - accuracy: 0.5119 - loss: 0.6924 - val_accuracy: 0.5291 - val_loss: 0.6920\n"
          ]
        }
      ],
      "source": [
        "# Convertir etiquetas categóricas de vuelta a formato binario\n",
        "y_train_binary = np.argmax(y_train, axis=1)  # Devuelve 0 o 1\n",
        "y_test_binary = np.argmax(y_test, axis=1)    # Devuelve 0 o 1\n",
        "\n",
        "# Entrenamiento del modelo original (modelo más grande)\n",
        "original_hist = model.fit(train_images, y_train_binary,  # Usamos etiquetas binarias\n",
        "                          epochs=20,                     # Número de épocas\n",
        "                          batch_size=512,                # Tamaño del lote\n",
        "                          validation_data=(test_images, y_test_binary))  # Datos de validación\n",
        "\n",
        "# Para entrenar el modelo más pequeño, simplemente cambia 'model' por 'smaller_model'\n",
        "# Entrenamiento del modelo más pequeño\n",
        "smaller_hist = smaller_model.fit(train_images, y_train_binary,\n",
        "                                 epochs=20,\n",
        "                                 batch_size=512,\n",
        "                                 validation_data=(test_images, y_test_binary))\n",
        "\n"
      ]
    },
    {
      "cell_type": "code",
      "execution_count": 148,
      "metadata": {
        "collapsed": true,
        "id": "d6zqoQ2MXV1e"
      },
      "outputs": [],
      "source": [
        "import matplotlib.pyplot as plt\n",
        "\n",
        "# Asegúrate de que las pérdidas de validación se hayan registrado correctamente\n",
        "original_val_loss = original_hist.history.get('val_loss', [])\n",
        "smaller_model_val_loss = smaller_hist.history.get('val_loss', [])"
      ]
    },
    {
      "cell_type": "code",
      "execution_count": 149,
      "metadata": {
        "colab": {
          "base_uri": "https://localhost:8080/",
          "height": 449
        },
        "id": "MgIoiN_oXV1e",
        "outputId": "772df41b-4fd3-4ee5-d26b-101bf99348da"
      },
      "outputs": [
        {
          "data": {
            "image/png": "[encoded data removed]",
            "text/plain": [
              "<Figure size 640x480 with 1 Axes>"
            ]
          },
          "metadata": {},
          "output_type": "display_data"
        }
      ],
      "source": [
        "# Definir el rango de épocas\n",
        "epochs = range(1, 21)\n",
        "\n",
        "# Graficar la pérdida de validación para el modelo original\n",
        "plt.plot(epochs, original_val_loss, 'b+', label='Modelo Original')  # '+' es para marcar con cruz azul\n",
        "\n",
        "# Graficar la pérdida de validación para el modelo más pequeño\n",
        "plt.plot(epochs, smaller_model_val_loss, 'bo', label='Modelo Más Pequeño')  # 'o' es para marcar con punto azul\n",
        "\n",
        "# Añadir detalles al gráfico\n",
        "plt.xlabel('Épocas')\n",
        "plt.ylabel('Pérdida de Validación')\n",
        "plt.legend()\n",
        "plt.grid(True)  # Añadir cuadrícula para mejor legibilidad\n",
        "\n",
        "# Mostrar el gráfico\n",
        "plt.show()"
      ]
    },
    {
      "cell_type": "markdown",
      "metadata": {
        "id": "18b0hwyFXV1e"
      },
      "source": [
        "\n",
        "As you can see, the smaller network starts overfitting later than the reference one (after 6 epochs rather than 4) and its performance\n",
        "degrades much more slowly once it starts overfitting.\n",
        "\n",
        "Now, for kicks, let's add to this benchmark a network that has much more capacity, far more than the problem would warrant:"
      ]
    },
    {
      "cell_type": "code",
      "execution_count": 150,
      "metadata": {
        "collapsed": true,
        "id": "3CjC78iqXV1e"
      },
      "outputs": [],
      "source": [
        "from keras import layers\n",
        "# Definir el tamaño de entrada de las imágenes (ajustar según tus datos)\n",
        "input_shape = (64, 64, 4)  # Por ejemplo, 64x64 píxeles con 4 canales (incluyendo alfa o algún otro canal)\n",
        "\n",
        "# Definir el modelo más grande\n",
        "bigger_model = models.Sequential()\n",
        "bigger_model.add(layers.Flatten(input_shape=input_shape))  # Aplana las imágenes a un vector\n",
        "bigger_model.add(layers.Dense(128, activation='relu'))\n",
        "bigger_model.add(layers.Dense(128, activation='relu'))\n",
        "bigger_model.add(layers.Dense(1, activation='sigmoid'))  # Capa de salida para clasificación binaria\n",
        "\n",
        "# Compilar el modelo\n",
        "bigger_model.compile(optimizer='rmsprop',\n",
        "                     loss='binary_crossentropy',\n",
        "                     metrics=['acc'])"
      ]
    },
    {
      "cell_type": "code",
      "execution_count": 151,
      "metadata": {
        "colab": {
          "base_uri": "https://localhost:8080/"
        },
        "id": "xy0AT7U6XV1f",
        "outputId": "6c51326c-a03c-4e94-d8fe-2e10009d4696"
      },
      "outputs": [
        {
          "name": "stdout",
          "output_type": "stream",
          "text": [
            "Epoch 1/20\n",
            "\u001b[1m2/2\u001b[0m \u001b[32m━━━━━━━━━━━━━━━━━━━━\u001b[0m\u001b[37m\u001b[0m \u001b[1m1s\u001b[0m 179ms/step - acc: 0.4923 - loss: 0.6932 - val_acc: 0.5291 - val_loss: 0.6925\n",
            "Epoch 2/20\n",
            "\u001b[1m2/2\u001b[0m \u001b[32m━━━━━━━━━━━━━━━━━━━━\u001b[0m\u001b[37m\u001b[0m \u001b[1m0s\u001b[0m 58ms/step - acc: 0.5113 - loss: 0.6927 - val_acc: 0.5291 - val_loss: 0.6921\n",
            "Epoch 3/20\n",
            "\u001b[1m2/2\u001b[0m \u001b[32m━━━━━━━━━━━━━━━━━━━━\u001b[0m\u001b[37m\u001b[0m \u001b[1m0s\u001b[0m 61ms/step - acc: 0.5146 - loss: 0.6923 - val_acc: 0.5534 - val_loss: 0.6921\n",
            "Epoch 4/20\n",
            "\u001b[1m2/2\u001b[0m \u001b[32m━━━━━━━━━━━━━━━━━━━━\u001b[0m\u001b[37m\u001b[0m \u001b[1m0s\u001b[0m 60ms/step - acc: 0.5680 - loss: 0.6921 - val_acc: 0.5291 - val_loss: 0.6910\n",
            "Epoch 5/20\n",
            "\u001b[1m2/2\u001b[0m \u001b[32m━━━━━━━━━━━━━━━━━━━━\u001b[0m\u001b[37m\u001b[0m \u001b[1m0s\u001b[0m 59ms/step - acc: 0.5067 - loss: 0.6915 - val_acc: 0.5291 - val_loss: 0.6903\n",
            "Epoch 6/20\n",
            "\u001b[1m2/2\u001b[0m \u001b[32m━━━━━━━━━━━━━━━━━━━━\u001b[0m\u001b[37m\u001b[0m \u001b[1m0s\u001b[0m 60ms/step - acc: 0.5198 - loss: 0.6906 - val_acc: 0.5825 - val_loss: 0.6911\n",
            "Epoch 7/20\n",
            "\u001b[1m2/2\u001b[0m \u001b[32m━━━━━━━━━━━━━━━━━━━━\u001b[0m\u001b[37m\u001b[0m \u001b[1m0s\u001b[0m 62ms/step - acc: 0.6010 - loss: 0.6906 - val_acc: 0.5437 - val_loss: 0.6896\n",
            "Epoch 8/20\n",
            "\u001b[1m2/2\u001b[0m \u001b[32m━━━━━━━━━━━━━━━━━━━━\u001b[0m\u001b[37m\u001b[0m \u001b[1m0s\u001b[0m 61ms/step - acc: 0.5133 - loss: 0.6895 - val_acc: 0.5583 - val_loss: 0.6891\n",
            "Epoch 9/20\n",
            "\u001b[1m2/2\u001b[0m \u001b[32m━━━━━━━━━━━━━━━━━━━━\u001b[0m\u001b[37m\u001b[0m \u001b[1m0s\u001b[0m 57ms/step - acc: 0.5527 - loss: 0.6889 - val_acc: 0.5728 - val_loss: 0.6880\n",
            "Epoch 10/20\n",
            "\u001b[1m2/2\u001b[0m \u001b[32m━━━━━━━━━━━━━━━━━━━━\u001b[0m\u001b[37m\u001b[0m \u001b[1m0s\u001b[0m 72ms/step - acc: 0.5388 - loss: 0.6879 - val_acc: 0.5728 - val_loss: 0.6878\n",
            "Epoch 11/20\n",
            "\u001b[1m2/2\u001b[0m \u001b[32m━━━━━━━━━━━━━━━━━━━━\u001b[0m\u001b[37m\u001b[0m \u001b[1m0s\u001b[0m 55ms/step - acc: 0.5781 - loss: 0.6869 - val_acc: 0.5728 - val_loss: 0.6864\n",
            "Epoch 12/20\n",
            "\u001b[1m2/2\u001b[0m \u001b[32m━━━━━━━━━━━━━━━━━━━━\u001b[0m\u001b[37m\u001b[0m \u001b[1m0s\u001b[0m 61ms/step - acc: 0.5797 - loss: 0.6861 - val_acc: 0.5728 - val_loss: 0.6854\n",
            "Epoch 13/20\n",
            "\u001b[1m2/2\u001b[0m \u001b[32m━━━━━━━━━━━━━━━━━━━━\u001b[0m\u001b[37m\u001b[0m \u001b[1m0s\u001b[0m 61ms/step - acc: 0.5660 - loss: 0.6854 - val_acc: 0.5728 - val_loss: 0.6842\n",
            "Epoch 14/20\n",
            "\u001b[1m2/2\u001b[0m \u001b[32m━━━━━━━━━━━━━━━━━━━━\u001b[0m\u001b[37m\u001b[0m \u001b[1m0s\u001b[0m 59ms/step - acc: 0.5831 - loss: 0.6831 - val_acc: 0.5874 - val_loss: 0.6832\n",
            "Epoch 15/20\n",
            "\u001b[1m2/2\u001b[0m \u001b[32m━━━━━━━━━━━━━━━━━━━━\u001b[0m\u001b[37m\u001b[0m \u001b[1m0s\u001b[0m 61ms/step - acc: 0.5782 - loss: 0.6823 - val_acc: 0.5777 - val_loss: 0.6816\n",
            "Epoch 16/20\n",
            "\u001b[1m2/2\u001b[0m \u001b[32m━━━━━━━━━━━━━━━━━━━━\u001b[0m\u001b[37m\u001b[0m \u001b[1m0s\u001b[0m 60ms/step - acc: 0.6016 - loss: 0.6817 - val_acc: 0.5583 - val_loss: 0.6804\n",
            "Epoch 17/20\n",
            "\u001b[1m2/2\u001b[0m \u001b[32m━━━━━━━━━━━━━━━━━━━━\u001b[0m\u001b[37m\u001b[0m \u001b[1m0s\u001b[0m 60ms/step - acc: 0.5701 - loss: 0.6796 - val_acc: 0.5825 - val_loss: 0.6789\n",
            "Epoch 18/20\n",
            "\u001b[1m2/2\u001b[0m \u001b[32m━━━━━━━━━━━━━━━━━━━━\u001b[0m\u001b[37m\u001b[0m \u001b[1m0s\u001b[0m 69ms/step - acc: 0.5745 - loss: 0.6781 - val_acc: 0.5583 - val_loss: 0.6774\n",
            "Epoch 19/20\n",
            "\u001b[1m2/2\u001b[0m \u001b[32m━━━━━━━━━━━━━━━━━━━━\u001b[0m\u001b[37m\u001b[0m \u001b[1m0s\u001b[0m 59ms/step - acc: 0.5781 - loss: 0.6751 - val_acc: 0.5728 - val_loss: 0.6763\n",
            "Epoch 20/20\n",
            "\u001b[1m2/2\u001b[0m \u001b[32m━━━━━━━━━━━━━━━━━━━━\u001b[0m\u001b[37m\u001b[0m \u001b[1m0s\u001b[0m 58ms/step - acc: 0.6082 - loss: 0.6737 - val_acc: 0.6748 - val_loss: 0.6757\n"
          ]
        }
      ],
      "source": [
        "# Entrenamiento del modelo más grande\n",
        "bigger_hist = bigger_model.fit(train_images, y_train_binary,  # Usamos imágenes preprocesadas y etiquetas binarias\n",
        "                               epochs=20,                 # Número de épocas\n",
        "                               batch_size=512,            # Tamaño del lote\n",
        "                               validation_data=(test_images, y_test_binary))  # Datos de validación"
      ]
    },
    {
      "cell_type": "markdown",
      "metadata": {
        "id": "y-CtyiUYXV1f"
      },
      "source": [
        "Here's how the bigger network fares compared to the reference one. The dots are the validation loss values of the bigger network, and the\n",
        "crosses are the initial network."
      ]
    },
    {
      "cell_type": "code",
      "execution_count": 152,
      "metadata": {
        "colab": {
          "base_uri": "https://localhost:8080/",
          "height": 449
        },
        "id": "sgiYswlpXV1f",
        "outputId": "2e81070c-9160-4686-a09d-bdf1544f9a46"
      },
      "outputs": [
        {
          "data": {
            "image/png": "[encoded data removed]",
            "text/plain": [
              "<Figure size 640x480 with 1 Axes>"
            ]
          },
          "metadata": {},
          "output_type": "display_data"
        }
      ],
      "source": [
        "bigger_model_val_loss = bigger_hist.history['val_loss']\n",
        "\n",
        "plt.plot(epochs, original_val_loss, 'b+', label='Original model')\n",
        "plt.plot(epochs, bigger_model_val_loss, 'bo', label='Bigger model')\n",
        "plt.xlabel('Epochs')\n",
        "plt.ylabel('Validation loss')\n",
        "plt.legend()\n",
        "\n",
        "plt.show()"
      ]
    },
    {
      "cell_type": "markdown",
      "metadata": {
        "id": "yyL0jejUXV1f"
      },
      "source": [
        "\n",
        "The bigger network starts overfitting almost right away, after just one epoch, and overfits much more severely. Its validation loss is also\n",
        "more noisy.\n",
        "\n",
        "Meanwhile, here are the training losses for our two networks:"
      ]
    },
    {
      "cell_type": "code",
      "execution_count": 153,
      "metadata": {
        "colab": {
          "base_uri": "https://localhost:8080/",
          "height": 449
        },
        "id": "ITazn9utXV1f",
        "outputId": "3bb30a49-e1cc-47d7-c171-0b4e93b82c77"
      },
      "outputs": [
        {
          "data": {
            "image/png": "[encoded data removed]",
            "text/plain": [
              "<Figure size 640x480 with 1 Axes>"
            ]
          },
          "metadata": {},
          "output_type": "display_data"
        }
      ],
      "source": [
        "original_train_loss = original_hist.history['loss']\n",
        "bigger_model_train_loss = bigger_hist.history['loss']\n",
        "\n",
        "plt.plot(epochs, original_train_loss, 'b+', label='Original model')\n",
        "plt.plot(epochs, bigger_model_train_loss, 'bo', label='Bigger model')\n",
        "plt.xlabel('Epochs')\n",
        "plt.ylabel('Training loss')\n",
        "plt.legend()\n",
        "\n",
        "plt.show()"
      ]
    },
    {
      "cell_type": "markdown",
      "metadata": {
        "id": "h408HGe8XV1f"
      },
      "source": [
        "As you can see, the bigger network gets its training loss near zero very quickly. The more capacity the network has, the quicker it will be\n",
        "able to model the training data (resulting in a low training loss), but the more susceptible it is to overfitting (resulting in a large\n",
        "difference between the training and validation loss)."
      ]
    },
    {
      "cell_type": "markdown",
      "metadata": {
        "id": "UDDpc7m1XV1f"
      },
      "source": [
        "## Adding weight regularization\n",
        "\n",
        "\n",
        "You may be familiar with _Occam's Razor_ principle: given two explanations for something, the explanation most likely to be correct is the\n",
        "\"simplest\" one, the one that makes the least amount of assumptions. This also applies to the models learned by neural networks: given some\n",
        "training data and a network architecture, there are multiple sets of weights values (multiple _models_) that could explain the data, and\n",
        "simpler models are less likely to overfit than complex ones.\n",
        "\n",
        "A \"simple model\" in this context is a model where the distribution of parameter values has less entropy (or a model with fewer\n",
        "parameters altogether, as we saw in the section above). Thus a common way to mitigate overfitting is to put constraints on the complexity\n",
        "of a network by forcing its weights to only take small values, which makes the distribution of weight values more \"regular\". This is called\n",
        "\"weight regularization\", and it is done by adding to the loss function of the network a _cost_ associated with having large weights. This\n",
        "cost comes in two flavors:\n",
        "\n",
        "* L1 regularization, where the cost added is proportional to the _absolute value of the weights coefficients_ (i.e. to what is called the\n",
        "\"L1 norm\" of the weights).\n",
        "* L2 regularization, where the cost added is proportional to the _square of the value of the weights coefficients_ (i.e. to what is called\n",
        "the \"L2 norm\" of the weights). L2 regularization is also called _weight decay_ in the context of neural networks. Don't let the different\n",
        "name confuse you: weight decay is mathematically the exact same as L2 regularization.\n",
        "\n",
        "In Keras, weight regularization is added by passing _weight regularizer instances_ to layers as keyword arguments. Let's add L2 weight\n",
        "regularization to our movie review classification network:"
      ]
    },
    {
      "cell_type": "code",
      "execution_count": 154,
      "metadata": {
        "collapsed": true,
        "id": "g0XJXHnHXV1g"
      },
      "outputs": [],
      "source": [
        "from keras import models\n",
        "from keras import layers\n",
        "from keras import regularizers\n",
        "\n",
        "# Definir el modelo con regularización L2\n",
        "l2_model = models.Sequential()\n",
        "l2_model.add(layers.Flatten(input_shape=(64, 64, 4)))  # Aplana las imágenes a un vector\n",
        "l2_model.add(layers.Dense(16, kernel_regularizer=regularizers.l2(0.001),\n",
        "                          activation='relu'))\n",
        "l2_model.add(layers.Dense(16, kernel_regularizer=regularizers.l2(0.001),\n",
        "                          activation='relu'))\n",
        "l2_model.add(layers.Dense(1, activation='sigmoid'))"
      ]
    },
    {
      "cell_type": "code",
      "execution_count": 155,
      "metadata": {
        "collapsed": true,
        "id": "FXZK8v5JXV1g"
      },
      "outputs": [],
      "source": [
        "# Compilar el modelo\n",
        "l2_model.compile(optimizer='rmsprop',\n",
        "                 loss='binary_crossentropy',\n",
        "                 metrics=['acc'])"
      ]
    },
    {
      "cell_type": "markdown",
      "metadata": {
        "id": "4Q67A5ARXV1g"
      },
      "source": [
        "`l2(0.001)` means that every coefficient in the weight matrix of the layer will add `0.001 * weight_coefficient_value` to the total loss of\n",
        "the network. Note that because this penalty is _only added at training time_, the loss for this network will be much higher at training\n",
        "than at test time.\n",
        "\n",
        "Here's the impact of our L2 regularization penalty:"
      ]
    },
    {
      "cell_type": "code",
      "execution_count": 156,
      "metadata": {
        "colab": {
          "base_uri": "https://localhost:8080/"
        },
        "id": "0hKJt13hXV1g",
        "outputId": "eb24eabe-e94d-40c4-ad69-e4f6bb43b9ce"
      },
      "outputs": [
        {
          "name": "stdout",
          "output_type": "stream",
          "text": [
            "Epoch 1/20\n",
            "\u001b[1m2/2\u001b[0m \u001b[32m━━━━━━━━━━━━━━━━━━━━\u001b[0m\u001b[37m\u001b[0m \u001b[1m1s\u001b[0m 171ms/step - acc: 0.4399 - loss: 0.7420 - val_acc: 0.5291 - val_loss: 0.7402\n",
            "Epoch 2/20\n",
            "\u001b[1m2/2\u001b[0m \u001b[32m━━━━━━━━━━━━━━━━━━━━\u001b[0m\u001b[37m\u001b[0m \u001b[1m0s\u001b[0m 35ms/step - acc: 0.5106 - loss: 0.7404 - val_acc: 0.5291 - val_loss: 0.7388\n",
            "Epoch 3/20\n",
            "\u001b[1m2/2\u001b[0m \u001b[32m━━━━━━━━━━━━━━━━━━━━\u001b[0m\u001b[37m\u001b[0m \u001b[1m0s\u001b[0m 35ms/step - acc: 0.5035 - loss: 0.7393 - val_acc: 0.5291 - val_loss: 0.7373\n",
            "Epoch 4/20\n",
            "\u001b[1m2/2\u001b[0m \u001b[32m━━━━━━━━━━━━━━━━━━━━\u001b[0m\u001b[37m\u001b[0m \u001b[1m0s\u001b[0m 36ms/step - acc: 0.5185 - loss: 0.7375 - val_acc: 0.5291 - val_loss: 0.7363\n",
            "Epoch 5/20\n",
            "\u001b[1m2/2\u001b[0m \u001b[32m━━━━━━━━━━━━━━━━━━━━\u001b[0m\u001b[37m\u001b[0m \u001b[1m0s\u001b[0m 35ms/step - acc: 0.5061 - loss: 0.7367 - val_acc: 0.5291 - val_loss: 0.7349\n",
            "Epoch 6/20\n",
            "\u001b[1m2/2\u001b[0m \u001b[32m━━━━━━━━━━━━━━━━━━━━\u001b[0m\u001b[37m\u001b[0m \u001b[1m0s\u001b[0m 35ms/step - acc: 0.5165 - loss: 0.7351 - val_acc: 0.5291 - val_loss: 0.7339\n",
            "Epoch 7/20\n",
            "\u001b[1m2/2\u001b[0m \u001b[32m━━━━━━━━━━━━━━━━━━━━\u001b[0m\u001b[37m\u001b[0m \u001b[1m0s\u001b[0m 34ms/step - acc: 0.5113 - loss: 0.7340 - val_acc: 0.5291 - val_loss: 0.7327\n",
            "Epoch 8/20\n",
            "\u001b[1m2/2\u001b[0m \u001b[32m━━━━━━━━━━━━━━━━━━━━\u001b[0m\u001b[37m\u001b[0m \u001b[1m0s\u001b[0m 35ms/step - acc: 0.5093 - loss: 0.7329 - val_acc: 0.5291 - val_loss: 0.7315\n",
            "Epoch 9/20\n",
            "\u001b[1m2/2\u001b[0m \u001b[32m━━━━━━━━━━━━━━━━━━━━\u001b[0m\u001b[37m\u001b[0m \u001b[1m0s\u001b[0m 35ms/step - acc: 0.5009 - loss: 0.7323 - val_acc: 0.5291 - val_loss: 0.7303\n",
            "Epoch 10/20\n",
            "\u001b[1m2/2\u001b[0m \u001b[32m━━━━━━━━━━━━━━━━━━━━\u001b[0m\u001b[37m\u001b[0m \u001b[1m0s\u001b[0m 35ms/step - acc: 0.5139 - loss: 0.7304 - val_acc: 0.5291 - val_loss: 0.7294\n",
            "Epoch 11/20\n",
            "\u001b[1m2/2\u001b[0m \u001b[32m━━━━━━━━━━━━━━━━━━━━\u001b[0m\u001b[37m\u001b[0m \u001b[1m0s\u001b[0m 35ms/step - acc: 0.5093 - loss: 0.7295 - val_acc: 0.5291 - val_loss: 0.7282\n",
            "Epoch 12/20\n",
            "\u001b[1m2/2\u001b[0m \u001b[32m━━━━━━━━━━━━━━━━━━━━\u001b[0m\u001b[37m\u001b[0m \u001b[1m0s\u001b[0m 37ms/step - acc: 0.5022 - loss: 0.7288 - val_acc: 0.5291 - val_loss: 0.7269\n",
            "Epoch 13/20\n",
            "\u001b[1m2/2\u001b[0m \u001b[32m━━━━━━━━━━━━━━━━━━━━\u001b[0m\u001b[37m\u001b[0m \u001b[1m0s\u001b[0m 35ms/step - acc: 0.5113 - loss: 0.7269 - val_acc: 0.5291 - val_loss: 0.7260\n",
            "Epoch 14/20\n",
            "\u001b[1m2/2\u001b[0m \u001b[32m━━━━━━━━━━━━━━━━━━━━\u001b[0m\u001b[37m\u001b[0m \u001b[1m0s\u001b[0m 35ms/step - acc: 0.5093 - loss: 0.7260 - val_acc: 0.5291 - val_loss: 0.7249\n",
            "Epoch 15/20\n",
            "\u001b[1m2/2\u001b[0m \u001b[32m━━━━━━━━━━━━━━━━━━━━\u001b[0m\u001b[37m\u001b[0m \u001b[1m0s\u001b[0m 35ms/step - acc: 0.5080 - loss: 0.7249 - val_acc: 0.5291 - val_loss: 0.7238\n",
            "Epoch 16/20\n",
            "\u001b[1m2/2\u001b[0m \u001b[32m━━━━━━━━━━━━━━━━━━━━\u001b[0m\u001b[37m\u001b[0m \u001b[1m0s\u001b[0m 35ms/step - acc: 0.5133 - loss: 0.7235 - val_acc: 0.5680 - val_loss: 0.7231\n",
            "Epoch 17/20\n",
            "\u001b[1m2/2\u001b[0m \u001b[32m━━━━━━━━━━━━━━━━━━━━\u001b[0m\u001b[37m\u001b[0m \u001b[1m0s\u001b[0m 36ms/step - acc: 0.5375 - loss: 0.7227 - val_acc: 0.5485 - val_loss: 0.7221\n",
            "Epoch 18/20\n",
            "\u001b[1m2/2\u001b[0m \u001b[32m━━━━━━━━━━━━━━━━━━━━\u001b[0m\u001b[37m\u001b[0m \u001b[1m0s\u001b[0m 42ms/step - acc: 0.5339 - loss: 0.7216 - val_acc: 0.5583 - val_loss: 0.7212\n",
            "Epoch 19/20\n",
            "\u001b[1m2/2\u001b[0m \u001b[32m━━━━━━━━━━━━━━━━━━━━\u001b[0m\u001b[37m\u001b[0m \u001b[1m0s\u001b[0m 34ms/step - acc: 0.5571 - loss: 0.7206 - val_acc: 0.5485 - val_loss: 0.7202\n",
            "Epoch 20/20\n",
            "\u001b[1m2/2\u001b[0m \u001b[32m━━━━━━━━━━━━━━━━━━━━\u001b[0m\u001b[37m\u001b[0m \u001b[1m0s\u001b[0m 31ms/step - acc: 0.5537 - loss: 0.7209 - val_acc: 0.5340 - val_loss: 0.7190\n"
          ]
        }
      ],
      "source": [
        "\n",
        "l2_hist = l2_model.fit(train_images, y_train_binary,\n",
        "                       epochs=20,\n",
        "                       batch_size=512,\n",
        "                       validation_data=(test_images, y_test_binary))"
      ]
    },
    {
      "cell_type": "code",
      "execution_count": 157,
      "metadata": {
        "colab": {
          "base_uri": "https://localhost:8080/",
          "height": 449
        },
        "id": "GwUhpo1VXV1g",
        "outputId": "75225ee6-0ede-44a9-9663-882d214c79b4"
      },
      "outputs": [
        {
          "data": {
            "image/png": "[encoded data removed]",
            "text/plain": [
              "<Figure size 640x480 with 1 Axes>"
            ]
          },
          "metadata": {},
          "output_type": "display_data"
        }
      ],
      "source": [
        "l2_model_val_loss = l2_hist.history['val_loss']\n",
        "\n",
        "plt.plot(epochs, original_val_loss, 'b+', label='Original model')\n",
        "plt.plot(epochs, l2_model_val_loss, 'bo', label='L2-regularized model')\n",
        "plt.xlabel('Epochs')\n",
        "plt.ylabel('Validation loss')\n",
        "plt.legend()\n",
        "\n",
        "plt.show()"
      ]
    },
    {
      "cell_type": "markdown",
      "metadata": {
        "id": "mbt1SbZ5XV1g"
      },
      "source": [
        "\n",
        "\n",
        "As you can see, the model with L2 regularization (dots) has become much more resistant to overfitting than the reference model (crosses),\n",
        "even though both models have the same number of parameters.\n",
        "\n",
        "As alternatives to L2 regularization, you could use one of the following Keras weight regularizers:"
      ]
    },
    {
      "cell_type": "code",
      "execution_count": 158,
      "metadata": {
        "colab": {
          "base_uri": "https://localhost:8080/"
        },
        "collapsed": true,
        "id": "zg_gk3mdXV1g",
        "outputId": "ecc2850a-99c4-4330-8bef-ffa5980bfb4c"
      },
      "outputs": [
        {
          "data": {
            "text/plain": [
              "<keras.src.regularizers.regularizers.L1L2 at 0x201c2a352b0>"
            ]
          },
          "execution_count": 158,
          "metadata": {},
          "output_type": "execute_result"
        }
      ],
      "source": [
        "from keras import regularizers\n",
        "\n",
        "# L1 regularization\n",
        "regularizers.l1(0.001)\n",
        "\n",
        "# L1 and L2 regularization at the same time\n",
        "regularizers.l1_l2(l1=0.001, l2=0.001)"
      ]
    },
    {
      "cell_type": "markdown",
      "metadata": {
        "id": "iXQzABYYXV1g"
      },
      "source": [
        "## Adding dropout\n",
        "\n",
        "\n",
        "Dropout is one of the most effective and most commonly used regularization techniques for neural networks, developed by Hinton and his\n",
        "students at the University of Toronto. Dropout, applied to a layer, consists of randomly \"dropping out\" (i.e. setting to zero) a number of\n",
        "output features of the layer during training. Let's say a given layer would normally have returned a vector `[0.2, 0.5, 1.3, 0.8, 1.1]` for a\n",
        "given input sample during training; after applying dropout, this vector will have a few zero entries distributed at random, e.g. `[0, 0.5,\n",
        "1.3, 0, 1.1]`. The \"dropout rate\" is the fraction of the features that are being zeroed-out; it is usually set between 0.2 and 0.5. At test\n",
        "time, no units are dropped out, and instead the layer's output values are scaled down by a factor equal to the dropout rate, so as to\n",
        "balance for the fact that more units are active than at training time.\n",
        "\n",
        "Consider a Numpy matrix containing the output of a layer, `layer_output`, of shape `(batch_size, features)`. At training time, we would be\n",
        "zero-ing out at random a fraction of the values in the matrix:"
      ]
    },
    {
      "cell_type": "code",
      "execution_count": 159,
      "metadata": {},
      "outputs": [],
      "source": [
        "# Definir el modelo con Dropout\n",
        "model_with_dropout = models.Sequential()\n",
        "model_with_dropout.add(layers.Dense(16, activation='relu', input_shape=(64, 64, 4)))\n",
        "model_with_dropout.add(layers.Dropout(0.5))  # Aplicar Dropout con una tasa del 50%\n",
        "model_with_dropout.add(layers.Dense(16, activation='relu'))\n",
        "model_with_dropout.add(layers.Dropout(0.5))  # Aplicar Dropout con una tasa del 50%\n",
        "model_with_dropout.add(layers.Dense(1, activation='sigmoid'))\n",
        "\n",
        "# Compilar el modelo\n",
        "model_with_dropout.compile(optimizer='rmsprop',\n",
        "                           loss='binary_crossentropy',\n",
        "                           metrics=['acc'])"
      ]
    },
    {
      "cell_type": "markdown",
      "metadata": {
        "id": "u2kr2wdWXV1h"
      },
      "source": [
        "\n",
        "This technique may seem strange and arbitrary. Why would this help reduce overfitting? Geoff Hinton has said that he was inspired, among\n",
        "other things, by a fraud prevention mechanism used by banks -- in his own words: _\"I went to my bank. The tellers kept changing and I asked\n",
        "one of them why. He said he didn’t know but they got moved around a lot. I figured it must be because it would require cooperation\n",
        "between employees to successfully defraud the bank. This made me realize that randomly removing a different subset of neurons on each\n",
        "example would prevent conspiracies and thus reduce overfitting\"_.\n",
        "\n",
        "The core idea is that introducing noise in the output values of a layer can break up happenstance patterns that are not significant (what\n",
        "Hinton refers to as \"conspiracies\"), which the network would start memorizing if no noise was present.\n",
        "\n",
        "In Keras you can introduce dropout in a network via the `Dropout` layer, which gets applied to the output of layer right before it, e.g.:"
      ]
    },
    {
      "cell_type": "code",
      "execution_count": 160,
      "metadata": {
        "collapsed": true,
        "id": "HNQn84NNXV1h"
      },
      "outputs": [],
      "source": [
        "model.add(layers.Dropout(0.5))"
      ]
    },
    {
      "cell_type": "markdown",
      "metadata": {
        "id": "C09_xrBKXV1h"
      },
      "source": [
        "Let's add two `Dropout` layers in our IMDB network to see how well they do at reducing overfitting:"
      ]
    },
    {
      "cell_type": "code",
      "execution_count": 163,
      "metadata": {
        "collapsed": true,
        "id": "kAxu9jBNXV1h"
      },
      "outputs": [],
      "source": [
        "dpt_model = models.Sequential()\n",
        "dpt_model.add(layers.Flatten(input_shape=(64, 64, 4)))  # Aplana las imágenes\n",
        "dpt_model.add(layers.Dense(16, activation='relu'))\n",
        "dpt_model.add(layers.Dropout(0.5))\n",
        "dpt_model.add(layers.Dense(16, activation='relu'))\n",
        "dpt_model.add(layers.Dropout(0.5))\n",
        "dpt_model.add(layers.Dense(1, activation='sigmoid'))\n",
        "\n",
        "dpt_model.compile(optimizer='rmsprop',\n",
        "                  loss='binary_crossentropy',\n",
        "                  metrics=['acc'])"
      ]
    },
    {
      "cell_type": "code",
      "execution_count": 164,
      "metadata": {
        "colab": {
          "base_uri": "https://localhost:8080/"
        },
        "id": "jK9iDBHJXV1q",
        "outputId": "78f5cbf0-d0fc-4d16-858b-a02f0e7c63a8"
      },
      "outputs": [
        {
          "name": "stdout",
          "output_type": "stream",
          "text": [
            "Epoch 1/20\n",
            "\u001b[1m2/2\u001b[0m \u001b[32m━━━━━━━━━━━━━━━━━━━━\u001b[0m\u001b[37m\u001b[0m \u001b[1m1s\u001b[0m 148ms/step - acc: 0.5241 - loss: 0.6931 - val_acc: 0.5291 - val_loss: 0.6928\n",
            "Epoch 2/20\n",
            "\u001b[1m2/2\u001b[0m \u001b[32m━━━━━━━━━━━━━━━━━━━━\u001b[0m\u001b[37m\u001b[0m \u001b[1m0s\u001b[0m 33ms/step - acc: 0.4970 - loss: 0.6933 - val_acc: 0.5291 - val_loss: 0.6927\n",
            "Epoch 3/20\n",
            "\u001b[1m2/2\u001b[0m \u001b[32m━━━━━━━━━━━━━━━━━━━━\u001b[0m\u001b[37m\u001b[0m \u001b[1m0s\u001b[0m 33ms/step - acc: 0.4874 - loss: 0.6933 - val_acc: 0.5291 - val_loss: 0.6923\n",
            "Epoch 4/20\n",
            "\u001b[1m2/2\u001b[0m \u001b[32m━━━━━━━━━━━━━━━━━━━━\u001b[0m\u001b[37m\u001b[0m \u001b[1m0s\u001b[0m 34ms/step - acc: 0.5150 - loss: 0.6927 - val_acc: 0.5291 - val_loss: 0.6923\n",
            "Epoch 5/20\n",
            "\u001b[1m2/2\u001b[0m \u001b[32m━━━━━━━━━━━━━━━━━━━━\u001b[0m\u001b[37m\u001b[0m \u001b[1m0s\u001b[0m 34ms/step - acc: 0.5131 - loss: 0.6919 - val_acc: 0.5291 - val_loss: 0.6918\n",
            "Epoch 6/20\n",
            "\u001b[1m2/2\u001b[0m \u001b[32m━━━━━━━━━━━━━━━━━━━━\u001b[0m\u001b[37m\u001b[0m \u001b[1m0s\u001b[0m 39ms/step - acc: 0.5085 - loss: 0.6926 - val_acc: 0.5291 - val_loss: 0.6920\n",
            "Epoch 7/20\n",
            "\u001b[1m2/2\u001b[0m \u001b[32m━━━━━━━━━━━━━━━━━━━━\u001b[0m\u001b[37m\u001b[0m \u001b[1m0s\u001b[0m 32ms/step - acc: 0.5090 - loss: 0.6918 - val_acc: 0.5291 - val_loss: 0.6916\n",
            "Epoch 8/20\n",
            "\u001b[1m2/2\u001b[0m \u001b[32m━━━━━━━━━━━━━━━━━━━━\u001b[0m\u001b[37m\u001b[0m \u001b[1m0s\u001b[0m 36ms/step - acc: 0.5290 - loss: 0.6920 - val_acc: 0.5291 - val_loss: 0.6914\n",
            "Epoch 9/20\n",
            "\u001b[1m2/2\u001b[0m \u001b[32m━━━━━━━━━━━━━━━━━━━━\u001b[0m\u001b[37m\u001b[0m \u001b[1m0s\u001b[0m 34ms/step - acc: 0.5084 - loss: 0.6922 - val_acc: 0.5291 - val_loss: 0.6910\n",
            "Epoch 10/20\n",
            "\u001b[1m2/2\u001b[0m \u001b[32m━━━━━━━━━━━━━━━━━━━━\u001b[0m\u001b[37m\u001b[0m \u001b[1m0s\u001b[0m 34ms/step - acc: 0.5141 - loss: 0.6908 - val_acc: 0.5291 - val_loss: 0.6908\n",
            "Epoch 11/20\n",
            "\u001b[1m2/2\u001b[0m \u001b[32m━━━━━━━━━━━━━━━━━━━━\u001b[0m\u001b[37m\u001b[0m \u001b[1m0s\u001b[0m 33ms/step - acc: 0.5095 - loss: 0.6916 - val_acc: 0.5291 - val_loss: 0.6909\n",
            "Epoch 12/20\n",
            "\u001b[1m2/2\u001b[0m \u001b[32m━━━━━━━━━━━━━━━━━━━━\u001b[0m\u001b[37m\u001b[0m \u001b[1m0s\u001b[0m 33ms/step - acc: 0.5038 - loss: 0.6912 - val_acc: 0.5291 - val_loss: 0.6909\n",
            "Epoch 13/20\n",
            "\u001b[1m2/2\u001b[0m \u001b[32m━━━━━━━━━━━━━━━━━━━━\u001b[0m\u001b[37m\u001b[0m \u001b[1m0s\u001b[0m 34ms/step - acc: 0.4970 - loss: 0.6921 - val_acc: 0.5291 - val_loss: 0.6909\n",
            "Epoch 14/20\n",
            "\u001b[1m2/2\u001b[0m \u001b[32m━━━━━━━━━━━━━━━━━━━━\u001b[0m\u001b[37m\u001b[0m \u001b[1m0s\u001b[0m 33ms/step - acc: 0.5072 - loss: 0.6912 - val_acc: 0.5291 - val_loss: 0.6906\n",
            "Epoch 15/20\n",
            "\u001b[1m2/2\u001b[0m \u001b[32m━━━━━━━━━━━━━━━━━━━━\u001b[0m\u001b[37m\u001b[0m \u001b[1m0s\u001b[0m 35ms/step - acc: 0.5006 - loss: 0.6912 - val_acc: 0.5291 - val_loss: 0.6907\n",
            "Epoch 16/20\n",
            "\u001b[1m2/2\u001b[0m \u001b[32m━━━━━━━━━━━━━━━━━━━━\u001b[0m\u001b[37m\u001b[0m \u001b[1m0s\u001b[0m 33ms/step - acc: 0.5056 - loss: 0.6913 - val_acc: 0.5291 - val_loss: 0.6903\n",
            "Epoch 17/20\n",
            "\u001b[1m2/2\u001b[0m \u001b[32m━━━━━━━━━━━━━━━━━━━━\u001b[0m\u001b[37m\u001b[0m \u001b[1m0s\u001b[0m 33ms/step - acc: 0.5082 - loss: 0.6910 - val_acc: 0.5291 - val_loss: 0.6904\n",
            "Epoch 18/20\n",
            "\u001b[1m2/2\u001b[0m \u001b[32m━━━━━━━━━━━━━━━━━━━━\u001b[0m\u001b[37m\u001b[0m \u001b[1m0s\u001b[0m 35ms/step - acc: 0.5121 - loss: 0.6905 - val_acc: 0.5291 - val_loss: 0.6904\n",
            "Epoch 19/20\n",
            "\u001b[1m2/2\u001b[0m \u001b[32m━━━━━━━━━━━━━━━━━━━━\u001b[0m\u001b[37m\u001b[0m \u001b[1m0s\u001b[0m 38ms/step - acc: 0.5188 - loss: 0.6896 - val_acc: 0.5291 - val_loss: 0.6897\n",
            "Epoch 20/20\n",
            "\u001b[1m2/2\u001b[0m \u001b[32m━━━━━━━━━━━━━━━━━━━━\u001b[0m\u001b[37m\u001b[0m \u001b[1m0s\u001b[0m 42ms/step - acc: 0.5100 - loss: 0.6893 - val_acc: 0.5291 - val_loss: 0.6894\n"
          ]
        }
      ],
      "source": [
        "# Entrenamiento del modelo con Dropout\n",
        "dpt_model_hist = dpt_model.fit(train_images, y_train_binary,\n",
        "                               epochs=20,\n",
        "                               batch_size=512,\n",
        "                               validation_data=(test_images, y_test_binary))\n"
      ]
    },
    {
      "cell_type": "markdown",
      "metadata": {
        "id": "T6uEKy_WXV1q"
      },
      "source": [
        "Let's plot the results:"
      ]
    },
    {
      "cell_type": "code",
      "execution_count": 165,
      "metadata": {
        "colab": {
          "base_uri": "https://localhost:8080/",
          "height": 449
        },
        "id": "rPsfQHaKXV1q",
        "outputId": "e955ce8e-71fe-409a-9d06-2c97a236f2ca"
      },
      "outputs": [
        {
          "data": {
            "image/png": "[encoded data removed]",
            "text/plain": [
              "<Figure size 640x480 with 1 Axes>"
            ]
          },
          "metadata": {},
          "output_type": "display_data"
        }
      ],
      "source": [
        "dpt_model_val_loss = dpt_model_hist.history['val_loss']\n",
        "\n",
        "plt.plot(epochs, original_val_loss, 'b+', label='Original model')\n",
        "plt.plot(epochs, dpt_model_val_loss, 'bo', label='Dropout-regularized model')\n",
        "plt.xlabel('Epochs')\n",
        "plt.ylabel('Validation loss')\n",
        "plt.legend()\n",
        "\n",
        "plt.show()"
      ]
    },
    {
      "cell_type": "markdown",
      "metadata": {
        "id": "k2rRwdMMXV1q"
      },
      "source": [
        "\n",
        "Again, a clear improvement over the reference network.\n",
        "\n",
        "To recap: here the most common ways to prevent overfitting in neural networks:\n",
        "\n",
        "* Getting more training data.\n",
        "* Reducing the capacity of the network.\n",
        "* Adding weight regularization.\n",
        "* Adding dropout."
      ]
    }
  ],
  "metadata": {
    "colab": {
      "provenance": []
    },
    "kernelspec": {
      "display_name": "Python 3",
      "language": "python",
      "name": "python3"
    },
    "language_info": {
      "codemirror_mode": {
        "name": "ipython",
        "version": 3
      },
      "file_extension": ".py",
      "mimetype": "text/x-python",
      "name": "python",
      "nbconvert_exporter": "python",
      "pygments_lexer": "ipython3",
      "version": "3.12.5"
    }
  },
  "nbformat": 4,
  "nbformat_minor": 0
}
